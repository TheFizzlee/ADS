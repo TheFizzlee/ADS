{
 "cells": [
  {
   "cell_type": "code",
   "execution_count": 3,
   "metadata": {},
   "outputs": [
    {
     "name": "stdout",
     "output_type": "stream",
     "text": [
      "Voor Data Prep:\n",
      "        Id  Cl.thickness  Cell.size  Cell.shape  Marg.adhesion  Epith.c.size  \\\n",
      "0  1000025             5          1           1              1             2   \n",
      "1  1002945             5          4           4              5             7   \n",
      "2  1015425             3          1           1              1             2   \n",
      "3  1016277             6          8           8              1             3   \n",
      "4  1017023             4          1           1              3             2   \n",
      "\n",
      "   Bare.nuclei  Bl.cromatin  Normal.nucleoli  Mitoses   Class  \n",
      "0          1.0            3                1        1  benign  \n",
      "1         10.0            3                2        1  benign  \n",
      "2          2.0            3                1        1  benign  \n",
      "3          4.0            3                7        1  benign  \n",
      "4          1.0            3                1        1  benign  \n",
      "699\n"
     ]
    },
    {
     "ename": "KeyError",
     "evalue": "('Cl.thickness', 'Cell.size', 'Cell.shape', 'Marg.adhesion', 'Epith.c.size', 'Bare.nuclei', 'Bl.cromatin', 'Normal.nucleoli', 'Mitoses')",
     "output_type": "error",
     "traceback": [
      "\u001b[1;31m---------------------------------------------------------------------------\u001b[0m",
      "\u001b[1;31mKeyError\u001b[0m                                  Traceback (most recent call last)",
      "File \u001b[1;32m~\\anaconda3\\envs\\ads\\Lib\\site-packages\\pandas\\core\\indexes\\base.py:3802\u001b[0m, in \u001b[0;36mIndex.get_loc\u001b[1;34m(self, key)\u001b[0m\n\u001b[0;32m   3801\u001b[0m \u001b[38;5;28;01mtry\u001b[39;00m:\n\u001b[1;32m-> 3802\u001b[0m     \u001b[38;5;28;01mreturn\u001b[39;00m \u001b[38;5;28;43mself\u001b[39;49m\u001b[38;5;241;43m.\u001b[39;49m\u001b[43m_engine\u001b[49m\u001b[38;5;241;43m.\u001b[39;49m\u001b[43mget_loc\u001b[49m\u001b[43m(\u001b[49m\u001b[43mcasted_key\u001b[49m\u001b[43m)\u001b[49m\n\u001b[0;32m   3803\u001b[0m \u001b[38;5;28;01mexcept\u001b[39;00m \u001b[38;5;167;01mKeyError\u001b[39;00m \u001b[38;5;28;01mas\u001b[39;00m err:\n",
      "File \u001b[1;32mindex.pyx:153\u001b[0m, in \u001b[0;36mpandas._libs.index.IndexEngine.get_loc\u001b[1;34m()\u001b[0m\n",
      "File \u001b[1;32mindex.pyx:182\u001b[0m, in \u001b[0;36mpandas._libs.index.IndexEngine.get_loc\u001b[1;34m()\u001b[0m\n",
      "File \u001b[1;32mpandas\\\\_libs\\\\hashtable_class_helper.pxi:7081\u001b[0m, in \u001b[0;36mpandas._libs.hashtable.PyObjectHashTable.get_item\u001b[1;34m()\u001b[0m\n",
      "File \u001b[1;32mpandas\\\\_libs\\\\hashtable_class_helper.pxi:7089\u001b[0m, in \u001b[0;36mpandas._libs.hashtable.PyObjectHashTable.get_item\u001b[1;34m()\u001b[0m\n",
      "\u001b[1;31mKeyError\u001b[0m: ('Cl.thickness', 'Cell.size', 'Cell.shape', 'Marg.adhesion', 'Epith.c.size', 'Bare.nuclei', 'Bl.cromatin', 'Normal.nucleoli', 'Mitoses')",
      "\nThe above exception was the direct cause of the following exception:\n",
      "\u001b[1;31mKeyError\u001b[0m                                  Traceback (most recent call last)",
      "Cell \u001b[1;32mIn[3], line 26\u001b[0m\n\u001b[0;32m     23\u001b[0m numerical_columns \u001b[38;5;241m=\u001b[39m df\u001b[38;5;241m.\u001b[39mselect_dtypes(include\u001b[38;5;241m=\u001b[39m\u001b[38;5;124m'\u001b[39m\u001b[38;5;124mnumber\u001b[39m\u001b[38;5;124m'\u001b[39m)\u001b[38;5;241m.\u001b[39mcolumns\n\u001b[0;32m     24\u001b[0m df[numerical_columns] \u001b[38;5;241m=\u001b[39m df[numerical_columns]\u001b[38;5;241m.\u001b[39mapply(range_normalization)\n\u001b[1;32m---> 26\u001b[0m x\u001b[38;5;241m=\u001b[39m\u001b[43mdf\u001b[49m\u001b[43m[\u001b[49m\u001b[38;5;124;43m'\u001b[39;49m\u001b[38;5;124;43mCl.thickness\u001b[39;49m\u001b[38;5;124;43m'\u001b[39;49m\u001b[43m,\u001b[49m\u001b[43m \u001b[49m\u001b[38;5;124;43m'\u001b[39;49m\u001b[38;5;124;43mCell.size\u001b[39;49m\u001b[38;5;124;43m'\u001b[39;49m\u001b[43m,\u001b[49m\u001b[43m \u001b[49m\u001b[38;5;124;43m'\u001b[39;49m\u001b[38;5;124;43mCell.shape\u001b[39;49m\u001b[38;5;124;43m'\u001b[39;49m\u001b[43m,\u001b[49m\u001b[43m \u001b[49m\u001b[38;5;124;43m'\u001b[39;49m\u001b[38;5;124;43mMarg.adhesion\u001b[39;49m\u001b[38;5;124;43m'\u001b[39;49m\u001b[43m,\u001b[49m\u001b[43m \u001b[49m\u001b[38;5;124;43m'\u001b[39;49m\u001b[38;5;124;43mEpith.c.size\u001b[39;49m\u001b[38;5;124;43m'\u001b[39;49m\u001b[43m,\u001b[49m\u001b[43m \u001b[49m\u001b[38;5;124;43m'\u001b[39;49m\u001b[38;5;124;43mBare.nuclei\u001b[39;49m\u001b[38;5;124;43m'\u001b[39;49m\u001b[43m,\u001b[49m\u001b[43m \u001b[49m\u001b[38;5;124;43m'\u001b[39;49m\u001b[38;5;124;43mBl.cromatin\u001b[39;49m\u001b[38;5;124;43m'\u001b[39;49m\u001b[43m,\u001b[49m\u001b[43m \u001b[49m\u001b[38;5;124;43m'\u001b[39;49m\u001b[38;5;124;43mNormal.nucleoli\u001b[39;49m\u001b[38;5;124;43m'\u001b[39;49m\u001b[43m,\u001b[49m\u001b[43m \u001b[49m\u001b[38;5;124;43m'\u001b[39;49m\u001b[38;5;124;43mMitoses\u001b[39;49m\u001b[38;5;124;43m'\u001b[39;49m\u001b[43m]\u001b[49m\n\u001b[0;32m     27\u001b[0m y\u001b[38;5;241m=\u001b[39mdf[\u001b[38;5;124m'\u001b[39m\u001b[38;5;124mClass\u001b[39m\u001b[38;5;124m'\u001b[39m]\n\u001b[0;32m     28\u001b[0m X_train, X_test, Y_train, Y_test \u001b[38;5;241m=\u001b[39m train_test_split(x, y, test_size\u001b[38;5;241m=\u001b[39m\u001b[38;5;241m0.3\u001b[39m, random_state\u001b[38;5;241m=\u001b[39m\u001b[38;5;241m42\u001b[39m)\n",
      "File \u001b[1;32m~\\anaconda3\\envs\\ads\\Lib\\site-packages\\pandas\\core\\frame.py:4090\u001b[0m, in \u001b[0;36mDataFrame.__getitem__\u001b[1;34m(self, key)\u001b[0m\n\u001b[0;32m   4088\u001b[0m \u001b[38;5;28;01mif\u001b[39;00m \u001b[38;5;28mself\u001b[39m\u001b[38;5;241m.\u001b[39mcolumns\u001b[38;5;241m.\u001b[39mnlevels \u001b[38;5;241m>\u001b[39m \u001b[38;5;241m1\u001b[39m:\n\u001b[0;32m   4089\u001b[0m     \u001b[38;5;28;01mreturn\u001b[39;00m \u001b[38;5;28mself\u001b[39m\u001b[38;5;241m.\u001b[39m_getitem_multilevel(key)\n\u001b[1;32m-> 4090\u001b[0m indexer \u001b[38;5;241m=\u001b[39m \u001b[38;5;28;43mself\u001b[39;49m\u001b[38;5;241;43m.\u001b[39;49m\u001b[43mcolumns\u001b[49m\u001b[38;5;241;43m.\u001b[39;49m\u001b[43mget_loc\u001b[49m\u001b[43m(\u001b[49m\u001b[43mkey\u001b[49m\u001b[43m)\u001b[49m\n\u001b[0;32m   4091\u001b[0m \u001b[38;5;28;01mif\u001b[39;00m is_integer(indexer):\n\u001b[0;32m   4092\u001b[0m     indexer \u001b[38;5;241m=\u001b[39m [indexer]\n",
      "File \u001b[1;32m~\\anaconda3\\envs\\ads\\Lib\\site-packages\\pandas\\core\\indexes\\base.py:3809\u001b[0m, in \u001b[0;36mIndex.get_loc\u001b[1;34m(self, key)\u001b[0m\n\u001b[0;32m   3804\u001b[0m     \u001b[38;5;28;01mif\u001b[39;00m \u001b[38;5;28misinstance\u001b[39m(casted_key, \u001b[38;5;28mslice\u001b[39m) \u001b[38;5;129;01mor\u001b[39;00m (\n\u001b[0;32m   3805\u001b[0m         \u001b[38;5;28misinstance\u001b[39m(casted_key, abc\u001b[38;5;241m.\u001b[39mIterable)\n\u001b[0;32m   3806\u001b[0m         \u001b[38;5;129;01mand\u001b[39;00m \u001b[38;5;28many\u001b[39m(\u001b[38;5;28misinstance\u001b[39m(x, \u001b[38;5;28mslice\u001b[39m) \u001b[38;5;28;01mfor\u001b[39;00m x \u001b[38;5;129;01min\u001b[39;00m casted_key)\n\u001b[0;32m   3807\u001b[0m     ):\n\u001b[0;32m   3808\u001b[0m         \u001b[38;5;28;01mraise\u001b[39;00m InvalidIndexError(key)\n\u001b[1;32m-> 3809\u001b[0m     \u001b[38;5;28;01mraise\u001b[39;00m \u001b[38;5;167;01mKeyError\u001b[39;00m(key) \u001b[38;5;28;01mfrom\u001b[39;00m \u001b[38;5;21;01merr\u001b[39;00m\n\u001b[0;32m   3810\u001b[0m \u001b[38;5;28;01mexcept\u001b[39;00m \u001b[38;5;167;01mTypeError\u001b[39;00m:\n\u001b[0;32m   3811\u001b[0m     \u001b[38;5;66;03m# If we have a listlike key, _check_indexing_error will raise\u001b[39;00m\n\u001b[0;32m   3812\u001b[0m     \u001b[38;5;66;03m#  InvalidIndexError. Otherwise we fall through and re-raise\u001b[39;00m\n\u001b[0;32m   3813\u001b[0m     \u001b[38;5;66;03m#  the TypeError.\u001b[39;00m\n\u001b[0;32m   3814\u001b[0m     \u001b[38;5;28mself\u001b[39m\u001b[38;5;241m.\u001b[39m_check_indexing_error(key)\n",
      "\u001b[1;31mKeyError\u001b[0m: ('Cl.thickness', 'Cell.size', 'Cell.shape', 'Marg.adhesion', 'Epith.c.size', 'Bare.nuclei', 'Bl.cromatin', 'Normal.nucleoli', 'Mitoses')"
     ]
    }
   ],
   "source": [
    "import pandas as pd\n",
    "from sklearn.model_selection import train_test_split\n",
    "\n",
    "# Import dataset\n",
    "df = pd.read_csv('breastcancer_csv')\n",
    "\n",
    "print(\"Voor Data Prep:\")\n",
    "print(df.head())\n",
    "print(df.shape[0])\n",
    "\n",
    "# Stap 1: Remove missing values 'Bare.nuclei'\n",
    "df = df.dropna(subset=['Bare.nuclei'])\n",
    "\n",
    "# Stap 2: Classify 'Mitoses' as binary\n",
    "df['Mitoses'] = df['Mitoses'].apply(lambda x: 1 if x > 1 else 0)\n",
    "\n",
    "# Stap 3: Range normalization\n",
    "def range_normalization(column):\n",
    "    min_val = column.min()\n",
    "    max_val = column.max()\n",
    "    return (column - min_val) / (max_val - min_val)\n",
    "\n",
    "numerical_columns = df.select_dtypes(include='number').columns\n",
    "df[numerical_columns] = df[numerical_columns].apply(range_normalization)\n",
    "\n",
    "x=df['Cl.thickness', 'Cell.size', 'Cell.shape', 'Marg.adhesion', 'Epith.c.size', 'Bare.nuclei', 'Bl.cromatin', 'Normal.nucleoli', 'Mitoses']\n",
    "y=df['Class']\n",
    "X_train, X_test, Y_train, Y_test = train_test_split(x, y, test_size=0.3, random_state=42)\n",
    "\n",
    "print(X_train)\n",
    "print(X_test)\n",
    "print(Y_train)\n",
    "print(Y_test)\n",
    "\n",
    "# Save preprocessed train and test data to CSV files\n",
    "X_train.to_csv('breastcancer_train_prep_csv', index=False)\n",
    "X_test.to_csv('breastcancer_test_prep_csv', index=False)\n",
    "\n",
    "# Resultaat\n",
    "print(\"Na Data Prep:\")\n",
    "print(df.head())\n",
    "print(df.shape[0])"
   ]
  },
  {
   "cell_type": "code",
   "execution_count": 61,
   "metadata": {},
   "outputs": [
    {
     "name": "stdout",
     "output_type": "stream",
     "text": [
      "Voor Data Prep:\n",
      "        Id  Cl.thickness  Cell.size  Cell.shape  Marg.adhesion  Epith.c.size  \\\n",
      "0  1000025             5          1           1              1             2   \n",
      "1  1002945             5          4           4              5             7   \n",
      "2  1015425             3          1           1              1             2   \n",
      "3  1016277             6          8           8              1             3   \n",
      "4  1017023             4          1           1              3             2   \n",
      "\n",
      "   Bare.nuclei  Bl.cromatin  Normal.nucleoli  Mitoses   Class  \n",
      "0          1.0            3                1        1  benign  \n",
      "1         10.0            3                2        1  benign  \n",
      "2          2.0            3                1        1  benign  \n",
      "3          4.0            3                7        1  benign  \n",
      "4          1.0            3                1        1  benign  \n",
      "699\n"
     ]
    }
   ],
   "source": [
    "# Import dataset\n",
    "df = pd.read_csv('breastcancer_csv')\n",
    "\n",
    "print(\"Voor Data Prep:\")\n",
    "print(df.head())\n",
    "print(df.shape[0])"
   ]
  },
  {
   "cell_type": "code",
   "execution_count": 62,
   "metadata": {},
   "outputs": [],
   "source": [
    "# Stap 1: Remove missing values 'Bare.nuclei'\n",
    "df = df.dropna(subset=['Bare.nuclei'])"
   ]
  },
  {
   "cell_type": "code",
   "execution_count": 63,
   "metadata": {},
   "outputs": [],
   "source": [
    "# Stap 2: Classify 'Mitoses' as binary\n",
    "df['Mitoses'] = df['Mitoses'].apply(lambda x: 1 if x > 1 else 0)"
   ]
  },
  {
   "cell_type": "code",
   "execution_count": 58,
   "metadata": {},
   "outputs": [],
   "source": [
    "# Stap 2.5: Classify 'Mitoses'\n",
    "# df['Mitoses'] = df['Mitoses'].apply(lambda x: 'mitoses' if x > 1 else 'no mitoses')"
   ]
  },
  {
   "cell_type": "code",
   "execution_count": 64,
   "metadata": {},
   "outputs": [],
   "source": [
    "# Stap 3: Range normalization\n",
    "def range_normalization(column):\n",
    "    min_val = column.min()\n",
    "    max_val = column.max()\n",
    "    return (column - min_val) / (max_val - min_val)\n",
    "\n",
    "numerical_columns = df.select_dtypes(include='number').columns\n",
    "df[numerical_columns] = df[numerical_columns].apply(range_normalization)"
   ]
  },
  {
   "cell_type": "code",
   "execution_count": 65,
   "metadata": {},
   "outputs": [
    {
     "name": "stdout",
     "output_type": "stream",
     "text": [
      "Na Data Prep:\n",
      "         Id  Cl.thickness  Cell.size  Cell.shape  Marg.adhesion  Epith.c.size  \\\n",
      "0  0.069946      0.444444   0.000000    0.000000       0.000000      0.111111   \n",
      "1  0.070164      0.444444   0.333333    0.333333       0.444444      0.666667   \n",
      "2  0.071096      0.222222   0.000000    0.000000       0.000000      0.111111   \n",
      "3  0.071160      0.555556   0.777778    0.777778       0.000000      0.222222   \n",
      "4  0.071216      0.333333   0.000000    0.000000       0.222222      0.111111   \n",
      "\n",
      "   Bare.nuclei  Bl.cromatin  Normal.nucleoli  Mitoses   Class  \n",
      "0     0.000000     0.222222         0.000000      0.0  benign  \n",
      "1     1.000000     0.222222         0.111111      0.0  benign  \n",
      "2     0.111111     0.222222         0.000000      0.0  benign  \n",
      "3     0.333333     0.222222         0.666667      0.0  benign  \n",
      "4     0.000000     0.222222         0.000000      0.0  benign  \n",
      "683\n"
     ]
    }
   ],
   "source": [
    "# Resultaat\n",
    "print(\"Na Data Prep:\")\n",
    "print(df.head())\n",
    "print(df.shape[0])"
   ]
  }
 ],
 "metadata": {
  "kernelspec": {
   "display_name": "Python 3 (ipykernel)",
   "language": "python",
   "name": "python3"
  },
  "language_info": {
   "codemirror_mode": {
    "name": "ipython",
    "version": 3
   },
   "file_extension": ".py",
   "mimetype": "text/x-python",
   "name": "python",
   "nbconvert_exporter": "python",
   "pygments_lexer": "ipython3",
   "version": "3.12.1"
  }
 },
 "nbformat": 4,
 "nbformat_minor": 4
}
