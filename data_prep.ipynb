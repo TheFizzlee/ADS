{
 "cells": [
  {
   "cell_type": "code",
   "execution_count": 10,
   "metadata": {},
   "outputs": [
    {
     "name": "stdout",
     "output_type": "stream",
     "text": [
      "Voor Data Prep:\n",
      "        Id  Cl.thickness  Cell.size  Cell.shape  Marg.adhesion  Epith.c.size  \\\n",
      "0  1000025             5          1           1              1             2   \n",
      "1  1002945             5          4           4              5             7   \n",
      "2  1015425             3          1           1              1             2   \n",
      "3  1016277             6          8           8              1             3   \n",
      "4  1017023             4          1           1              3             2   \n",
      "\n",
      "   Bare.nuclei  Bl.cromatin  Normal.nucleoli  Mitoses   Class  \n",
      "0          1.0            3                1        1  benign  \n",
      "1         10.0            3                2        1  benign  \n",
      "2          2.0            3                1        1  benign  \n",
      "3          4.0            3                7        1  benign  \n",
      "4          1.0            3                1        1  benign  \n",
      "699\n",
      "Na Data Prep:\n",
      "         Id  Cl.thickness  Cell.size  Cell.shape  Marg.adhesion  Epith.c.size  \\\n",
      "0  0.069946      0.444444   0.000000    0.000000       0.000000      0.111111   \n",
      "1  0.070164      0.444444   0.333333    0.333333       0.444444      0.666667   \n",
      "2  0.071096      0.222222   0.000000    0.000000       0.000000      0.111111   \n",
      "3  0.071160      0.555556   0.777778    0.777778       0.000000      0.222222   \n",
      "4  0.071216      0.333333   0.000000    0.000000       0.222222      0.111111   \n",
      "\n",
      "   Bare.nuclei  Bl.cromatin  Normal.nucleoli  Mitoses   Class  \n",
      "0     0.000000     0.222222         0.000000      0.0  benign  \n",
      "1     1.000000     0.222222         0.111111      0.0  benign  \n",
      "2     0.111111     0.222222         0.000000      0.0  benign  \n",
      "3     0.333333     0.222222         0.666667      0.0  benign  \n",
      "4     0.000000     0.222222         0.000000      0.0  benign  \n",
      "683\n"
     ]
    }
   ],
   "source": [
    "import pandas as pd\n",
    "\n",
    "# Import dataset\n",
    "df = pd.read_csv('breastcancer_csv')\n",
    "\n",
    "print(\"Voor Data Prep:\")\n",
    "print(df.head())\n",
    "print(df.shape[0])\n",
    "\n",
    "# Stap 1: Remove missing values 'Bare.nuclei'\n",
    "df = df.dropna(subset=['Bare.nuclei'])\n",
    "\n",
    "# Stap 2: Classify 'Mitoses' as binary\n",
    "df['Mitoses'] = df['Mitoses'].apply(lambda x: 1 if x > 1 else 0)\n",
    "\n",
    "# Stap 3: Range normalization\n",
    "def range_normalization(column):\n",
    "    min_val = column.min()\n",
    "    max_val = column.max()\n",
    "    return (column - min_val) / (max_val - min_val)\n",
    "\n",
    "numerical_columns = df.select_dtypes(include='number').columns\n",
    "df[numerical_columns] = df[numerical_columns].apply(range_normalization)\n",
    "\n",
    "# Resultaat\n",
    "print(\"Na Data Prep:\")\n",
    "print(df.head())\n",
    "print(df.shape[0])\n",
    "\n",
    "df.to_csv('breastcancer_prep_csv', index=False)"
   ]
  },
  {
   "cell_type": "code",
   "execution_count": 61,
   "metadata": {},
   "outputs": [
    {
     "name": "stdout",
     "output_type": "stream",
     "text": [
      "Voor Data Prep:\n",
      "        Id  Cl.thickness  Cell.size  Cell.shape  Marg.adhesion  Epith.c.size  \\\n",
      "0  1000025             5          1           1              1             2   \n",
      "1  1002945             5          4           4              5             7   \n",
      "2  1015425             3          1           1              1             2   \n",
      "3  1016277             6          8           8              1             3   \n",
      "4  1017023             4          1           1              3             2   \n",
      "\n",
      "   Bare.nuclei  Bl.cromatin  Normal.nucleoli  Mitoses   Class  \n",
      "0          1.0            3                1        1  benign  \n",
      "1         10.0            3                2        1  benign  \n",
      "2          2.0            3                1        1  benign  \n",
      "3          4.0            3                7        1  benign  \n",
      "4          1.0            3                1        1  benign  \n",
      "699\n"
     ]
    }
   ],
   "source": [
    "# Import dataset\n",
    "df = pd.read_csv('breastcancer_csv')\n",
    "\n",
    "print(\"Voor Data Prep:\")\n",
    "print(df.head())\n",
    "print(df.shape[0])"
   ]
  },
  {
   "cell_type": "code",
   "execution_count": 62,
   "metadata": {},
   "outputs": [],
   "source": [
    "# Stap 1: Remove missing values 'Bare.nuclei'\n",
    "df = df.dropna(subset=['Bare.nuclei'])"
   ]
  },
  {
   "cell_type": "code",
   "execution_count": 63,
   "metadata": {},
   "outputs": [],
   "source": [
    "# Stap 2: Classify 'Mitoses' as binary\n",
    "df['Mitoses'] = df['Mitoses'].apply(lambda x: 1 if x > 1 else 0)"
   ]
  },
  {
   "cell_type": "code",
   "execution_count": 58,
   "metadata": {},
   "outputs": [],
   "source": [
    "# Stap 2.5: Classify 'Mitoses'\n",
    "# df['Mitoses'] = df['Mitoses'].apply(lambda x: 'mitoses' if x > 1 else 'no mitoses')"
   ]
  },
  {
   "cell_type": "code",
   "execution_count": 64,
   "metadata": {},
   "outputs": [],
   "source": [
    "# Stap 3: Range normalization\n",
    "def range_normalization(column):\n",
    "    min_val = column.min()\n",
    "    max_val = column.max()\n",
    "    return (column - min_val) / (max_val - min_val)\n",
    "\n",
    "numerical_columns = df.select_dtypes(include='number').columns\n",
    "df[numerical_columns] = df[numerical_columns].apply(range_normalization)"
   ]
  },
  {
   "cell_type": "code",
   "execution_count": 65,
   "metadata": {},
   "outputs": [
    {
     "name": "stdout",
     "output_type": "stream",
     "text": [
      "Na Data Prep:\n",
      "         Id  Cl.thickness  Cell.size  Cell.shape  Marg.adhesion  Epith.c.size  \\\n",
      "0  0.069946      0.444444   0.000000    0.000000       0.000000      0.111111   \n",
      "1  0.070164      0.444444   0.333333    0.333333       0.444444      0.666667   \n",
      "2  0.071096      0.222222   0.000000    0.000000       0.000000      0.111111   \n",
      "3  0.071160      0.555556   0.777778    0.777778       0.000000      0.222222   \n",
      "4  0.071216      0.333333   0.000000    0.000000       0.222222      0.111111   \n",
      "\n",
      "   Bare.nuclei  Bl.cromatin  Normal.nucleoli  Mitoses   Class  \n",
      "0     0.000000     0.222222         0.000000      0.0  benign  \n",
      "1     1.000000     0.222222         0.111111      0.0  benign  \n",
      "2     0.111111     0.222222         0.000000      0.0  benign  \n",
      "3     0.333333     0.222222         0.666667      0.0  benign  \n",
      "4     0.000000     0.222222         0.000000      0.0  benign  \n",
      "683\n"
     ]
    }
   ],
   "source": [
    "# Resultaat\n",
    "print(\"Na Data Prep:\")\n",
    "print(df.head())\n",
    "print(df.shape[0])"
   ]
  }
 ],
 "metadata": {
  "kernelspec": {
   "display_name": "Python 3 (ipykernel)",
   "language": "python",
   "name": "python3"
  },
  "language_info": {
   "codemirror_mode": {
    "name": "ipython",
    "version": 3
   },
   "file_extension": ".py",
   "mimetype": "text/x-python",
   "name": "python",
   "nbconvert_exporter": "python",
   "pygments_lexer": "ipython3",
   "version": "3.12.1"
  }
 },
 "nbformat": 4,
 "nbformat_minor": 4
}
